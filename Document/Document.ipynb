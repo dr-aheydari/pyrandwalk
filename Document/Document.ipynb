{
 "metadata": {
  "language_info": {
   "codemirror_mode": {
    "name": "ipython",
    "version": 3
   },
   "file_extension": ".py",
   "mimetype": "text/x-python",
   "name": "python",
   "nbconvert_exporter": "python",
   "pygments_lexer": "ipython3",
   "version": "3.6.8-final"
  },
  "orig_nbformat": 2,
  "kernelspec": {
   "name": "python37564bitb5183b850c424c19822d4b729b3b8a98",
   "display_name": "Python 3.7.5 64-bit"
  }
 },
 "nbformat": 4,
 "nbformat_minor": 2,
 "cells": [
  {
   "cell_type": "markdown",
   "metadata": {},
   "source": [
    "| Google Colab | GitHub |\n",
    "| :---: | :---: |\n",
    "| <a target=\"_blank\" href=\"https://colab.research.google.com/github/sadrasabouri/pyrandwalk/blob/master/Document/Document.ipynb\"><img src=\"https://i.ibb.co/2P3SLwK/colab.png\"  style=\"padding-bottom:5px;\" height=\"50px\" weight=\"50px\" /><br>Run in Google Colab</a> | <a target=\"_blank\" href=\"https://github.com/sadrasabouri/pyrandwalk/blob/master/Document/Document.ipynb\"><img src=\"https://i.ibb.co/xfJbPmL/github.png\"  height=\"50px\" weight=\"50px\" style=\"padding-bottom:5px;\"/><br>View Source on GitHub</a> |"
   ]
  },
  {
   "cell_type": "markdown",
   "metadata": {},
   "source": [
    "# Pyrandwalk Document"
   ]
  },
  {
   "cell_type": "markdown",
   "metadata": {},
   "source": [
    "### Version : 0.09\n",
    "-----"
   ]
  },
  {
   "cell_type": "markdown",
   "metadata": {},
   "source": [
    "## Table of contents"
   ]
  },
  {
   "cell_type": "markdown",
   "metadata": {},
   "source": [
    "<ul>\n",
    "    <li><a href=\"#Overview\">Overview</a></li>\n",
    "    <li><a href=\"#Installation\">Installation</a></li>\n",
    "        <ol>\n",
    "            <li><a href=\"#Source-code\">Source Code</a></li>\n",
    "            <li><a href=\"#PyPI\">PyPI</a></li>\n",
    "        </ol>\n",
    "    <li><a href=\"#Usage\">Usage</a></li>\n",
    "        <ol>\n",
    "            <li><a href=\"#RandomWalk\">RandomWalk</a></li>\n",
    "            <li><a href=\"#prob_sec\">prob_sec</a></li>\n",
    "            <li><a href=\"#run\">run</a></li>\n",
    "            <li><a href=\"#final_dist\">final_dist</a></li>\n",
    "            <li><a href=\"#is_irreducible\">is_irreducible</a></li>\n",
    "            <li><a href=\"#trans_power\">trans_power</a></li>     \n",
    "            <li><a href=\"#get_edges\">get_edges</a></li>\n",
    "            <li><a href=\"#get_graph\">get_graph</a></li>\n",
    "            <li><a href=\"#plot_graph\">plot_graph</a></li>\n",
    "            <li><a href=\"#get_typeof_classes\">get_typeof_classes</a></li>\n",
    "        </ol>\n",
    "    <li><a href=\"#Examples\">Examples</a></li>\n",
    "    <li><a href=\"#References\">References</a></li>\n",
    "</ul>"
   ]
  },
  {
   "cell_type": "markdown",
   "metadata": {},
   "source": [
    "## Overview"
   ]
  },
  {
   "cell_type": "markdown",
   "metadata": {},
   "source": [
    "Pyrandwalk is a tool for simulating random walks, calculate the probability of given state sequences and etc.\n",
    "Random walk is a representation of discrete-time, discrete-value Markov chain model using in stochastic processes."
   ]
  },
  {
   "cell_type": "markdown",
   "metadata": {},
   "source": [
    "## Installation"
   ]
  },
  {
   "cell_type": "markdown",
   "metadata": {},
   "source": [
    "### Source code\n",
    "- Download [Version 0.09](https://github.com/sadrasabouri/pyrandwalk/archive/v0.09.zip) or [Latest Source ](https://github.com/sadrasabouri/pyrandwalk/archive/dev.zip)\n",
    "- Run `pip install -r requirements.txt` or `pip3 install -r requirements.txt` (Need root access)\n",
    "- Run `python3 setup.py install` or `python setup.py install` (Need root access)"
   ]
  },
  {
   "cell_type": "markdown",
   "metadata": {},
   "source": [
    "### PyPI\n",
    "\n",
    "- Check [Python Packaging User Guide](https://packaging.python.org/installing/)\n",
    "- Run `pip install pyrandwalk` or `pip3 install pyrandwalk` (Need root access)\n"
   ]
  },
  {
   "cell_type": "markdown",
   "metadata": {},
   "source": [
    "## Usage"
   ]
  },
  {
   "cell_type": "code",
   "execution_count": 1,
   "metadata": {
    "tags": []
   },
   "outputs": [],
   "source": [
    "!pip install pyrandwalk\n",
    "from pyrandwalk import *\n",
    "import numpy as np"
   ]
  },
  {
   "cell_type": "markdown",
   "metadata": {},
   "source": [
    "### RandomWalk"
   ]
  },
  {
   "cell_type": "markdown",
   "metadata": {},
   "source": [
    "Imagine bellow random walk which in it you have five states ({0, 1, 2, 3, 4}) as bellow:\n",
    "<br>\n",
    "<div align=\"center\">\n",
    "<img src=\"https://raw.githubusercontent.com/sadrasabouri/pyrandwalk/master/Otherfiles/usage_example.webp\" weight=\"400\" height=\"400\">\n",
    "</div>\n",
    "<br>\n",
    "In this random walk you can only loop back in state 0 (absorbing state). In other states you can move to near states by the probability given on each edge.\n",
    "<br>\n",
    "<br>\n",
    "So let's make a RandomWalk object from this random walk:"
   ]
  },
  {
   "cell_type": "code",
   "execution_count": 2,
   "metadata": {},
   "outputs": [],
   "source": [
    "states = [0, 1, 2, 3, 4]\n",
    "trans = np.array([[1,    0, 0,    0, 0],\n",
    "                  [0.25, 0, 0.75, 0, 0],\n",
    "                  [0, 0.25, 0, 0.75, 0],\n",
    "                  [0, 0, 0.25, 0, 0.75],\n",
    "                  [0, 0,    0, 1,    0]])\n",
    "rw = RandomWalk(states, trans)"
   ]
  },
  {
   "cell_type": "code",
   "execution_count": 3,
   "metadata": {},
   "outputs": [
    {
     "output_type": "execute_result",
     "data": {
      "text/plain": "[0, 1, 2, 3, 4]"
     },
     "metadata": {},
     "execution_count": 3
    }
   ],
   "source": [
    "rw.S"
   ]
  },
  {
   "cell_type": "code",
   "execution_count": 4,
   "metadata": {},
   "outputs": [
    {
     "output_type": "execute_result",
     "data": {
      "text/plain": "array([[1.  , 0.  , 0.  , 0.  , 0.  ],\n       [0.25, 0.  , 0.75, 0.  , 0.  ],\n       [0.  , 0.25, 0.  , 0.75, 0.  ],\n       [0.  , 0.  , 0.25, 0.  , 0.75],\n       [0.  , 0.  , 0.  , 1.  , 0.  ]])"
     },
     "metadata": {},
     "execution_count": 4
    }
   ],
   "source": [
    "rw.P"
   ]
  },
  {
   "cell_type": "markdown",
   "metadata": {},
   "source": [
    "### prob_sec\n",
    "\n",
    "With this method you can calculate the probability of a given sequence:"
   ]
  },
  {
   "cell_type": "code",
   "execution_count": 5,
   "metadata": {},
   "outputs": [
    {
     "output_type": "execute_result",
     "data": {
      "text/plain": "0.0125"
     },
     "metadata": {},
     "execution_count": 5
    }
   ],
   "source": [
    "rw.prob_sec([2, 1, 0])"
   ]
  },
  {
   "cell_type": "code",
   "execution_count": 6,
   "metadata": {},
   "outputs": [
    {
     "output_type": "execute_result",
     "data": {
      "text/plain": "0.0625"
     },
     "metadata": {},
     "execution_count": 6
    }
   ],
   "source": [
    "rw.prob_sec([2, 1, 0], initial_dist=[0, 0, 1, 0, 0])"
   ]
  },
  {
   "cell_type": "markdown",
   "metadata": {},
   "source": [
    "<ul>\n",
    "    <li> <span style=\"color:red;\">Notice </span> :  `initial_dist` (the initial distribution of the sequence) is came by order respected to states and has a uniform distribution by default.</li>\n",
    "</ul>"
   ]
  },
  {
   "cell_type": "markdown",
   "metadata": {},
   "source": [
    "### run\n",
    "\n",
    "Run a random walk:"
   ]
  },
  {
   "cell_type": "code",
   "execution_count": 7,
   "metadata": {},
   "outputs": [],
   "source": [
    "states, probs = rw.run()"
   ]
  },
  {
   "cell_type": "code",
   "execution_count": 8,
   "metadata": {},
   "outputs": [
    {
     "output_type": "execute_result",
     "data": {
      "text/plain": "[2, 3, 4, 3, 2, 3, 4, 3, 2, 3, 4]"
     },
     "metadata": {},
     "execution_count": 8
    }
   ],
   "source": [
    "states"
   ]
  },
  {
   "cell_type": "code",
   "execution_count": 9,
   "metadata": {},
   "outputs": [
    {
     "output_type": "execute_result",
     "data": {
      "text/plain": "[0.2, 0.75, 0.75, 1.0, 0.25, 0.75, 0.75, 1.0, 0.25, 0.75, 0.75]"
     },
     "metadata": {},
     "execution_count": 9
    }
   ],
   "source": [
    "probs"
   ]
  },
  {
   "cell_type": "code",
   "execution_count": 10,
   "metadata": {},
   "outputs": [],
   "source": [
    "states, probs = rw.run(ntimes=20)"
   ]
  },
  {
   "cell_type": "code",
   "execution_count": 11,
   "metadata": {},
   "outputs": [
    {
     "output_type": "execute_result",
     "data": {
      "text/plain": "[3, 2, 3, 4, 3, 4, 3, 2, 3, 4, 3, 2, 3, 4, 3, 2, 3, 4, 3, 4, 3]"
     },
     "metadata": {},
     "execution_count": 11
    }
   ],
   "source": [
    "states"
   ]
  },
  {
   "cell_type": "code",
   "execution_count": 12,
   "metadata": {},
   "outputs": [
    {
     "output_type": "execute_result",
     "data": {
      "text/plain": "[0.2,\n 0.25,\n 0.75,\n 0.75,\n 1.0,\n 0.75,\n 1.0,\n 0.25,\n 0.75,\n 0.75,\n 1.0,\n 0.25,\n 0.75,\n 0.75,\n 1.0,\n 0.25,\n 0.75,\n 0.75,\n 1.0,\n 0.75,\n 1.0]"
     },
     "metadata": {},
     "execution_count": 12
    }
   ],
   "source": [
    "probs"
   ]
  },
  {
   "cell_type": "markdown",
   "metadata": {},
   "source": [
    "<ul>\n",
    "    <li> <span style=\"color:red;\">Notice </span> :  `ntimes` (number of steps which the random walk is going to run) is a integer (default value 10).</li>\n",
    "</ul>"
   ]
  },
  {
   "cell_type": "code",
   "execution_count": 13,
   "metadata": {
    "tags": []
   },
   "outputs": [
    {
     "output_type": "stream",
     "name": "stdout",
     "text": "2 --> 3  (p = 0.750)\n3 --> 4  (p = 0.750)\n4 --> 3  (p = 1.000)\n3 --> 2  (p = 0.250)\n2 --> 3  (p = 0.750)\n3 --> 4  (p = 0.750)\n4 --> 3  (p = 1.000)\n3 --> 2  (p = 0.250)\n2 --> 3  (p = 0.750)\n3 --> 4  (p = 0.750)\n"
    }
   ],
   "source": [
    "states, probs = rw.run(show=True)"
   ]
  },
  {
   "cell_type": "code",
   "execution_count": 14,
   "metadata": {},
   "outputs": [
    {
     "output_type": "execute_result",
     "data": {
      "text/plain": "[2, 3, 4, 3, 2, 3, 4, 3, 2, 3, 4]"
     },
     "metadata": {},
     "execution_count": 14
    }
   ],
   "source": [
    "states"
   ]
  },
  {
   "cell_type": "code",
   "execution_count": 15,
   "metadata": {},
   "outputs": [
    {
     "output_type": "execute_result",
     "data": {
      "text/plain": "[0.2, 0.75, 0.75, 1.0, 0.25, 0.75, 0.75, 1.0, 0.25, 0.75, 0.75]"
     },
     "metadata": {},
     "execution_count": 15
    }
   ],
   "source": [
    "probs"
   ]
  },
  {
   "cell_type": "markdown",
   "metadata": {},
   "source": [
    "<ul>\n",
    "    <li> <span style=\"color:red;\">Notice </span> :  `show` (a flag which sets if we want to have a transition log) is a boolean (default value False).</li>\n",
    "</ul>"
   ]
  },
  {
   "cell_type": "markdown",
   "metadata": {},
   "source": [
    "### final_dist\n",
    "\n",
    "Calculate final distribution of the random walk:"
   ]
  },
  {
   "cell_type": "code",
   "execution_count": null,
   "metadata": {},
   "outputs": [],
   "source": [
    "rw.final_dist()"
   ]
  },
  {
   "cell_type": "markdown",
   "metadata": {},
   "source": [
    "<ul>\n",
    "    <li> <span style=\"color:red;\">Notice </span> : added in version 1.</li>\n",
    "</ul>"
   ]
  },
  {
   "cell_type": "code",
   "execution_count": null,
   "metadata": {},
   "outputs": [],
   "source": [
    "rw.final_dist(precision=10**(-2))"
   ]
  },
  {
   "cell_type": "markdown",
   "metadata": {},
   "source": [
    "<ul>\n",
    "    <li> <span style=\"color:red;\">Notice </span> : `precision` if float number indecating the precision of final distribution (default value 10**(-10)).</li>\n",
    "</ul>"
   ]
  },
  {
   "cell_type": "markdown",
   "metadata": {},
   "source": [
    "### is_irreducible\n",
    "\n",
    "Check if a random walk is irreducible:"
   ]
  },
  {
   "cell_type": "code",
   "execution_count": 17,
   "metadata": {},
   "outputs": [
    {
     "output_type": "execute_result",
     "data": {
      "text/plain": "False"
     },
     "metadata": {},
     "execution_count": 17
    }
   ],
   "source": [
    "rw.is_irreducible()"
   ]
  },
  {
   "cell_type": "markdown",
   "metadata": {},
   "source": [
    "### trans_power\n",
    "\n",
    "Return nth power of random walk transition matrix:"
   ]
  },
  {
   "cell_type": "code",
   "execution_count": 18,
   "metadata": {},
   "outputs": [
    {
     "output_type": "execute_result",
     "data": {
      "text/plain": "array([[1.    , 0.    , 0.    , 0.    , 0.    ],\n       [0.25  , 0.1875, 0.    , 0.5625, 0.    ],\n       [0.0625, 0.    , 0.375 , 0.    , 0.5625],\n       [0.    , 0.0625, 0.    , 0.9375, 0.    ],\n       [0.    , 0.    , 0.25  , 0.    , 0.75  ]])"
     },
     "metadata": {},
     "execution_count": 18
    }
   ],
   "source": [
    "rw.trans_power(2)"
   ]
  },
  {
   "cell_type": "markdown",
   "metadata": {},
   "source": [
    "### get_edges\n",
    "\n",
    "Return edges of random walk's graph:"
   ]
  },
  {
   "cell_type": "code",
   "execution_count": 19,
   "metadata": {},
   "outputs": [
    {
     "output_type": "execute_result",
     "data": {
      "text/plain": "[(0, 0, 1.0),\n (1, 0, 0.25),\n (1, 2, 0.75),\n (2, 1, 0.25),\n (2, 3, 0.75),\n (3, 2, 0.25),\n (3, 4, 0.75),\n (4, 3, 1.0)]"
     },
     "metadata": {},
     "execution_count": 19
    }
   ],
   "source": [
    "rw.get_edges()"
   ]
  },
  {
   "cell_type": "markdown",
   "metadata": {},
   "source": [
    "### get_graph\n",
    "\n",
    "Return generated graph using networkx:"
   ]
  },
  {
   "cell_type": "code",
   "execution_count": 20,
   "metadata": {},
   "outputs": [],
   "source": [
    "rw_graph = rw.get_graph()"
   ]
  },
  {
   "cell_type": "markdown",
   "metadata": {},
   "source": [
    "### plot_graph\n",
    "\n",
    "Plot the random walk graph:"
   ]
  },
  {
   "cell_type": "code",
   "execution_count": 22,
   "metadata": {},
   "outputs": [
    {
     "output_type": "display_data",
     "data": {
      "text/plain": "<Figure size 576x396 with 1 Axes>",
      "image/svg+xml": "<?xml version=\"1.0\" encoding=\"utf-8\" standalone=\"no\"?>\n<!DOCTYPE svg PUBLIC \"-//W3C//DTD SVG 1.1//EN\"\n  \"http://www.w3.org/Graphics/SVG/1.1/DTD/svg11.dtd\">\n<!-- Created with matplotlib (https://matplotlib.org/) -->\n<svg height=\"313.38pt\" version=\"1.1\" viewBox=\"0 0 460.8 313.38\" width=\"460.8pt\" xmlns=\"http://www.w3.org/2000/svg\" xmlns:xlink=\"http://www.w3.org/1999/xlink\">\n <metadata>\n  <rdf:RDF xmlns:cc=\"http://creativecommons.org/ns#\" xmlns:dc=\"http://purl.org/dc/elements/1.1/\" xmlns:rdf=\"http://www.w3.org/1999/02/22-rdf-syntax-ns#\">\n   <cc:Work>\n    <dc:type rdf:resource=\"http://purl.org/dc/dcmitype/StillImage\"/>\n    <dc:date>2021-06-02T11:44:32.352627</dc:date>\n    <dc:format>image/svg+xml</dc:format>\n    <dc:creator>\n     <cc:Agent>\n      <dc:title>Matplotlib v3.3.4, https://matplotlib.org/</dc:title>\n     </cc:Agent>\n    </dc:creator>\n   </cc:Work>\n  </rdf:RDF>\n </metadata>\n <defs>\n  <style type=\"text/css\">*{stroke-linecap:butt;stroke-linejoin:round;}</style>\n </defs>\n <g id=\"figure_1\">\n  <g id=\"patch_1\">\n   <path d=\"M 0 313.38 \nL 460.8 313.38 \nL 460.8 0 \nL 0 0 \nz\n\" style=\"fill:#ffffff;\"/>\n  </g>\n  <g id=\"axes_1\">\n   <g id=\"patch_2\">\n    <path clip-path=\"url(#p8b2fff0f69)\" d=\"M 414.86281 156.690004 \nQ 414.86281 156.690004 414.86281 156.690004 \n\" style=\"fill:none;stroke:#000000;stroke-linecap:round;\"/>\n   </g>\n   <g id=\"patch_3\">\n    <path clip-path=\"url(#p8b2fff0f69)\" d=\"M 280.458786 38.854677 \nQ 344.405085 94.917977 407.510697 150.244225 \n\" style=\"fill:none;stroke:#000000;stroke-linecap:round;\"/>\n    <path clip-path=\"url(#p8b2fff0f69)\" d=\"M 405.82144 146.103403 \nL 407.510697 150.244225 \nL 403.184485 149.111137 \nL 405.82144 146.103403 \nz\n\" style=\"stroke:#000000;stroke-linecap:round;\"/>\n   </g>\n   <g id=\"patch_4\">\n    <path clip-path=\"url(#p8b2fff0f69)\" d=\"M 265.467108 34.899343 \nQ 159.941271 56.739672 55.510266 78.353407 \n\" style=\"fill:none;stroke:#000000;stroke-linecap:round;\"/>\n    <path clip-path=\"url(#p8b2fff0f69)\" d=\"M 59.832596 79.501215 \nL 55.510266 78.353407 \nL 59.02191 75.584228 \nL 59.832596 79.501215 \nz\n\" style=\"stroke:#000000;stroke-linecap:round;\"/>\n   </g>\n   <g id=\"patch_5\">\n    <path clip-path=\"url(#p8b2fff0f69)\" d=\"M 54.415841 78.579916 \nQ 159.941678 56.739588 264.372683 35.125853 \n\" style=\"fill:none;stroke:#000000;stroke-linecap:round;\"/>\n    <path clip-path=\"url(#p8b2fff0f69)\" d=\"M 260.050353 33.978045 \nL 264.372683 35.125853 \nL 260.861039 37.895032 \nL 260.050353 33.978045 \nz\n\" style=\"stroke:#000000;stroke-linecap:round;\"/>\n   </g>\n   <g id=\"patch_6\">\n    <path clip-path=\"url(#p8b2fff0f69)\" d=\"M 45.937191 88.998319 \nQ 45.937196 156.689586 45.937201 223.26282 \n\" style=\"fill:none;stroke:#000000;stroke-linecap:round;\"/>\n    <path clip-path=\"url(#p8b2fff0f69)\" d=\"M 47.937201 219.26282 \nL 45.937201 223.26282 \nL 43.937201 219.26282 \nL 47.937201 219.26282 \nz\n\" style=\"stroke:#000000;stroke-linecap:round;\"/>\n   </g>\n   <g id=\"patch_7\">\n    <path clip-path=\"url(#p8b2fff0f69)\" d=\"M 45.937202 224.381697 \nQ 45.937196 156.690429 45.937191 90.117195 \n\" style=\"fill:none;stroke:#000000;stroke-linecap:round;\"/>\n    <path clip-path=\"url(#p8b2fff0f69)\" d=\"M 43.937191 94.117196 \nL 45.937191 90.117195 \nL 47.937191 94.117195 \nL 43.937191 94.117196 \nz\n\" style=\"stroke:#000000;stroke-linecap:round;\"/>\n   </g>\n   <g id=\"patch_8\">\n    <path clip-path=\"url(#p8b2fff0f69)\" d=\"M 54.415854 234.800099 \nQ 159.941699 256.64042 264.372713 278.254148 \n\" style=\"fill:none;stroke:#000000;stroke-linecap:round;\"/>\n    <path clip-path=\"url(#p8b2fff0f69)\" d=\"M 260.861068 275.484969 \nL 264.372713 278.254148 \nL 260.050383 279.401956 \nL 260.861068 275.484969 \nz\n\" style=\"stroke:#000000;stroke-linecap:round;\"/>\n   </g>\n   <g id=\"patch_9\">\n    <path clip-path=\"url(#p8b2fff0f69)\" d=\"M 265.467137 278.480657 \nQ 159.941292 256.640336 55.510278 235.026608 \n\" style=\"fill:none;stroke:#000000;stroke-linecap:round;\"/>\n    <path clip-path=\"url(#p8b2fff0f69)\" d=\"M 59.021923 237.795787 \nL 55.510278 235.026608 \nL 59.832608 233.8788 \nL 59.021923 237.795787 \nz\n\" style=\"stroke:#000000;stroke-linecap:round;\"/>\n   </g>\n   <g id=\"PathCollection_1\">\n    <defs>\n     <path d=\"M 0 8.660254 \nC 2.296726 8.660254 4.499694 7.747755 6.123724 6.123724 \nC 7.747755 4.499694 8.660254 2.296726 8.660254 -0 \nC 8.660254 -2.296726 7.747755 -4.499694 6.123724 -6.123724 \nC 4.499694 -7.747755 2.296726 -8.660254 0 -8.660254 \nC -2.296726 -8.660254 -4.499694 -7.747755 -6.123724 -6.123724 \nC -7.747755 -4.499694 -8.660254 -2.296726 -8.660254 0 \nC -8.660254 2.296726 -7.747755 4.499694 -6.123724 6.123724 \nC -4.499694 7.747755 -2.296726 8.660254 0 8.660254 \nz\n\" id=\"C0_0_ef37412103\"/>\n    </defs>\n    <g clip-path=\"url(#p8b2fff0f69)\">\n     <use style=\"fill:#ff0000;stroke:#ff0000;stroke-width:0.3;\" x=\"414.86281\" xlink:href=\"#C0_0_ef37412103\" y=\"156.690004\"/>\n    </g>\n    <g clip-path=\"url(#p8b2fff0f69)\">\n     <use style=\"fill:#0000ff;stroke:#0000ff;stroke-width:0.3;\" x=\"273.945759\" xlink:href=\"#C0_0_ef37412103\" y=\"33.144545\"/>\n    </g>\n    <g clip-path=\"url(#p8b2fff0f69)\">\n     <use style=\"fill:#0000ff;stroke:#0000ff;stroke-width:0.3;\" x=\"45.93719\" xlink:href=\"#C0_0_ef37412103\" y=\"80.334714\"/>\n    </g>\n    <g clip-path=\"url(#p8b2fff0f69)\">\n     <use style=\"fill:#0000ff;stroke:#0000ff;stroke-width:0.3;\" x=\"45.937202\" xlink:href=\"#C0_0_ef37412103\" y=\"233.045301\"/>\n    </g>\n    <g clip-path=\"url(#p8b2fff0f69)\">\n     <use style=\"fill:#0000ff;stroke:#0000ff;stroke-width:0.3;\" x=\"273.945789\" xlink:href=\"#C0_0_ef37412103\" y=\"280.235455\"/>\n    </g>\n   </g>\n   <g id=\"text_1\">\n    <g clip-path=\"url(#p8b2fff0f69)\">\n     <!-- 0 -->\n     <g transform=\"translate(411.526247 159.793129)scale(0.12 -0.12)\">\n      <defs>\n       <path d=\"M 51.515625 34.421875 \nQ 51.515625 17 45.53125 8 \nQ 39.546875 -0.984375 27.59375 -0.984375 \nQ 3.953125 -0.984375 3.953125 34.421875 \nQ 3.953125 46.78125 6.53125 54.59375 \nQ 9.125 62.40625 14.296875 66.109375 \nQ 19.484375 69.828125 27.984375 69.828125 \nQ 40.1875 69.828125 45.84375 60.984375 \nQ 51.515625 52.15625 51.515625 34.421875 \nz\nM 37.75 34.421875 \nQ 37.75 43.953125 36.8125 49.21875 \nQ 35.890625 54.5 33.828125 56.78125 \nQ 31.78125 59.078125 27.875 59.078125 \nQ 23.734375 59.078125 21.609375 56.75 \nQ 19.484375 54.4375 18.578125 49.1875 \nQ 17.671875 43.953125 17.671875 34.421875 \nQ 17.671875 25 18.625 19.703125 \nQ 19.578125 14.40625 21.65625 12.109375 \nQ 23.734375 9.8125 27.6875 9.8125 \nQ 31.59375 9.8125 33.71875 12.234375 \nQ 35.84375 14.65625 36.796875 19.96875 \nQ 37.75 25.296875 37.75 34.421875 \nz\n\" id=\"LiberationSans-Bold-48\"/>\n      </defs>\n      <use xlink:href=\"#LiberationSans-Bold-48\"/>\n     </g>\n    </g>\n   </g>\n   <g id=\"text_2\">\n    <g clip-path=\"url(#p8b2fff0f69)\">\n     <!-- 1 -->\n     <g transform=\"translate(270.609196 36.24767)scale(0.12 -0.12)\">\n      <defs>\n       <path d=\"M 6.296875 0 \nL 6.296875 10.203125 \nL 23.34375 10.203125 \nL 23.34375 57.125 \nL 6.84375 46.828125 \nL 6.84375 57.625 \nL 24.078125 68.796875 \nL 37.0625 68.796875 \nL 37.0625 10.203125 \nL 52.828125 10.203125 \nL 52.828125 0 \nz\n\" id=\"LiberationSans-Bold-49\"/>\n      </defs>\n      <use xlink:href=\"#LiberationSans-Bold-49\"/>\n     </g>\n    </g>\n   </g>\n   <g id=\"text_3\">\n    <g clip-path=\"url(#p8b2fff0f69)\">\n     <!-- 2 -->\n     <g transform=\"translate(42.600628 83.437839)scale(0.12 -0.12)\">\n      <defs>\n       <path d=\"M 3.46875 0 \nL 3.46875 9.515625 \nQ 6.15625 15.4375 11.109375 21.046875 \nQ 16.0625 26.65625 23.578125 32.765625 \nQ 30.8125 38.625 33.71875 42.421875 \nQ 36.625 46.234375 36.625 49.90625 \nQ 36.625 58.890625 27.59375 58.890625 \nQ 23.1875 58.890625 20.875 56.515625 \nQ 18.5625 54.15625 17.875 49.421875 \nL 4.046875 50.203125 \nQ 5.21875 59.765625 11.203125 64.796875 \nQ 17.1875 69.828125 27.484375 69.828125 \nQ 38.625 69.828125 44.578125 64.75 \nQ 50.53125 59.671875 50.53125 50.484375 \nQ 50.53125 45.65625 48.625 41.75 \nQ 46.734375 37.84375 43.75 34.546875 \nQ 40.765625 31.25 37.125 28.359375 \nQ 33.5 25.484375 30.078125 22.75 \nQ 26.65625 20.015625 23.84375 17.234375 \nQ 21.046875 14.453125 19.671875 11.28125 \nL 51.609375 11.28125 \nL 51.609375 0 \nz\n\" id=\"LiberationSans-Bold-50\"/>\n      </defs>\n      <use xlink:href=\"#LiberationSans-Bold-50\"/>\n     </g>\n    </g>\n   </g>\n   <g id=\"text_4\">\n    <g clip-path=\"url(#p8b2fff0f69)\">\n     <!-- 3 -->\n     <g transform=\"translate(42.60064 236.148426)scale(0.12 -0.12)\">\n      <defs>\n       <path d=\"M 52 19.09375 \nQ 52 9.421875 45.65625 4.140625 \nQ 39.3125 -1.125 27.59375 -1.125 \nQ 16.5 -1.125 9.953125 3.96875 \nQ 3.421875 9.078125 2.296875 18.703125 \nL 16.265625 19.921875 \nQ 17.578125 10.015625 27.546875 10.015625 \nQ 32.46875 10.015625 35.203125 12.453125 \nQ 37.9375 14.890625 37.9375 19.921875 \nQ 37.9375 24.515625 34.609375 26.953125 \nQ 31.296875 29.390625 24.75 29.390625 \nL 19.96875 29.390625 \nL 19.96875 40.484375 \nL 24.46875 40.484375 \nQ 30.375 40.484375 33.34375 42.890625 \nQ 36.328125 45.3125 36.328125 49.8125 \nQ 36.328125 54.046875 33.953125 56.46875 \nQ 31.59375 58.890625 27.046875 58.890625 \nQ 22.796875 58.890625 20.1875 56.546875 \nQ 17.578125 54.203125 17.1875 49.90625 \nL 3.46875 50.875 \nQ 4.546875 59.765625 10.84375 64.796875 \nQ 17.140625 69.828125 27.296875 69.828125 \nQ 38.09375 69.828125 44.171875 64.96875 \nQ 50.25 60.109375 50.25 51.515625 \nQ 50.25 45.0625 46.453125 40.90625 \nQ 42.671875 36.765625 35.546875 35.40625 \nL 35.546875 35.203125 \nQ 43.453125 34.28125 47.71875 30 \nQ 52 25.734375 52 19.09375 \nz\n\" id=\"LiberationSans-Bold-51\"/>\n      </defs>\n      <use xlink:href=\"#LiberationSans-Bold-51\"/>\n     </g>\n    </g>\n   </g>\n   <g id=\"text_5\">\n    <g clip-path=\"url(#p8b2fff0f69)\">\n     <!-- 4 -->\n     <g transform=\"translate(270.609227 283.33858)scale(0.12 -0.12)\">\n      <defs>\n       <path d=\"M 45.90625 14.015625 \nL 45.90625 0 \nL 32.8125 0 \nL 32.8125 14.015625 \nL 1.515625 14.015625 \nL 1.515625 24.3125 \nL 30.5625 68.796875 \nL 45.90625 68.796875 \nL 45.90625 24.21875 \nL 55.078125 24.21875 \nL 55.078125 14.015625 \nz\nM 32.8125 46.734375 \nQ 32.8125 49.359375 32.984375 52.4375 \nQ 33.15625 55.515625 33.25 56.390625 \nQ 31.984375 53.65625 28.65625 48.484375 \nL 12.703125 24.21875 \nL 32.8125 24.21875 \nz\n\" id=\"LiberationSans-Bold-52\"/>\n      </defs>\n      <use xlink:href=\"#LiberationSans-Bold-52\"/>\n     </g>\n    </g>\n   </g>\n  </g>\n </g>\n <defs>\n  <clipPath id=\"p8b2fff0f69\">\n   <rect height=\"298.98\" width=\"446.4\" x=\"7.2\" y=\"7.2\"/>\n  </clipPath>\n </defs>\n</svg>\n",
      "image/png": "[encoded data removed]"
     },
     "metadata": {}
    }
   ],
   "source": [
    "rw.plot_graph()"
   ]
  },
  {
   "cell_type": "markdown",
   "metadata": {},
   "source": [
    "### get_typeof_classes\n",
    "\n",
    "Return type of classes of the random walk:"
   ]
  },
  {
   "cell_type": "code",
   "execution_count": 23,
   "metadata": {},
   "outputs": [],
   "source": [
    "rw_class_types = rw.get_typeof_classes()"
   ]
  },
  {
   "cell_type": "code",
   "execution_count": 24,
   "metadata": {},
   "outputs": [
    {
     "output_type": "execute_result",
     "data": {
      "text/plain": "([0], array([[1.]]))"
     },
     "metadata": {},
     "execution_count": 24
    }
   ],
   "source": [
    "rw_class_types['recurrent']"
   ]
  },
  {
   "cell_type": "code",
   "execution_count": 25,
   "metadata": {},
   "outputs": [
    {
     "output_type": "execute_result",
     "data": {
      "text/plain": "[1, 2, 3, 4]"
     },
     "metadata": {},
     "execution_count": 25
    }
   ],
   "source": [
    "rw_class_types['transient'][0]"
   ]
  },
  {
   "cell_type": "code",
   "execution_count": 26,
   "metadata": {},
   "outputs": [
    {
     "output_type": "execute_result",
     "data": {
      "text/plain": "array([[0.  , 0.75, 0.  , 0.  ],\n       [0.25, 0.  , 0.75, 0.  ],\n       [0.  , 0.25, 0.  , 0.75],\n       [0.  , 0.  , 1.  , 0.  ]])"
     },
     "metadata": {},
     "execution_count": 26
    }
   ],
   "source": [
    "rw_class_types['transient'][1]"
   ]
  },
  {
   "cell_type": "markdown",
   "metadata": {},
   "source": [
    "## Examples"
   ]
  },
  {
   "cell_type": "markdown",
   "metadata": {},
   "source": [
    "We have already seen a example of using pyrandwalk in <a href=\"#Usage\">Usage</a> section. If you want to see more examples including some solved exercises from references:\n",
    "\n",
    "<br>\n",
    "\n",
    "| Google Colab | GitHub |\n",
    "| :---: | :---: |\n",
    "| <a target=\"_blank\" href=\"https://colab.research.google.com/github/sadrasabouri/pyrandwalk/blob/master/Document/Examples.ipynb\"><img src=\"https://i.ibb.co/2P3SLwK/colab.png\"  style=\"padding-bottom:5px;\" height=\"50px\" weight=\"50px\" /><br>Examples on Google Colab</a> | <a target=\"_blank\" href=\"https://github.com/sadrasabouri/pyrandwalk/blob/master/Document/Examples.ipynb\"><img src=\"https://i.ibb.co/xfJbPmL/github.png\"  height=\"50px\" weight=\"50px\" style=\"padding-bottom:5px;\"/><br>Examples on GitHub</a> |\n"
   ]
  },
  {
   "cell_type": "markdown",
   "metadata": {},
   "source": [
    "## Reference"
   ]
  },
  {
   "cell_type": "markdown",
   "metadata": {},
   "source": [
    "<blockquote>1- Gregory F.Lawler, \"Introduction to Stochastic Processes\".</blockquote>\n",
    "<blockquote>2- [Markusfeng](https://markusfeng.com/projects/graph/), \"Graph / Finite State Machine Designer\".</blockquote>\n",
    "<div>Icon made by <a href=\"https://www.flaticon.com/authors/becris\" title=\"Becris\">Becris</a> from <a href=\"https://www.flaticon.com/\" title=\"Flaticon\">www.flaticon.com</a></div>\n"
   ]
  }
 ]
}