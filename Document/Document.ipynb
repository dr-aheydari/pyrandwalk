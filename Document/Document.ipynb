{
 "cells": [
  {
   "cell_type": "markdown",
   "metadata": {},
   "source": [
    "| Google Colab | GitHub |\n",
    "| :---: | :---: |\n",
    "| <a target=\"_blank\" href=\"https://colab.research.google.com/github/sadrasabouri/pyrandwalk/blob/master/Document/Document.ipynb\"><img src=\"https://i.ibb.co/2P3SLwK/colab.png\"  style=\"padding-bottom:5px;\" height=\"50px\" weight=\"50px\" /><br>Run in Google Colab</a> | <a target=\"_blank\" href=\"https://github.com/sadrasabouri/pyrandwalk/blob/master/Document/Document.ipynb\"><img src=\"https://i.ibb.co/xfJbPmL/github.png\"  height=\"50px\" weight=\"50px\" style=\"padding-bottom:5px;\"/><br>View Source on GitHub</a> |"
   ]
  },
  {
   "cell_type": "markdown",
   "metadata": {},
   "source": [
    "# Pyrandwalk Document"
   ]
  },
  {
   "cell_type": "markdown",
   "metadata": {},
   "source": [
    "### Version : 1.0\n",
    "-----"
   ]
  },
  {
   "cell_type": "markdown",
   "metadata": {},
   "source": [
    "## Table of contents"
   ]
  },
  {
   "cell_type": "markdown",
   "metadata": {},
   "source": [
    "<ul>\n",
    "    <li><a href=\"#Overview\">Overview</a></li>\n",
    "    <li><a href=\"#Installation\">Installation</a></li>\n",
    "        <ol>\n",
    "            <li><a href=\"#Source-code\">Source Code</a></li>\n",
    "            <li><a href=\"#PyPI\">PyPI</a></li>\n",
    "        </ol>\n",
    "    <li><a href=\"#Usage\">Usage</a></li>\n",
    "        <ol>\n",
    "            <li><a href=\"#RandomWalk\">RandomWalk</a></li>\n",
    "            <li><a href=\"#prob_sec\">prob_sec</a></li>\n",
    "            <li><a href=\"#run\">run</a></li>\n",
    "            <li><a href=\"#is_irreducible\">is_irreducible</a></li>\n",
    "            <li><a href=\"#trans_power\">trans_power</a></li>     \n",
    "            <li><a href=\"#get_edges\">get_edges</a></li>\n",
    "            <li><a href=\"#get_graph\">get_graph</a></li>\n",
    "            <li><a href=\"#plot_graph\">plot_graph</a></li>\n",
    "            <li><a href=\"#get_typeof_classes\">get_typeof_classes</a></li>\n",
    "        </ol>\n",
    "    <li><a href=\"#Examples\">Examples</a></li>\n",
    "    <li><a href=\"#References\">References</a></li>\n",
    "</ul>"
   ]
  },
  {
   "cell_type": "markdown",
   "metadata": {},
   "source": [
    "## Overview"
   ]
  },
  {
   "cell_type": "markdown",
   "metadata": {},
   "source": [
    "Pyrandwalk is a tool for simulating random walks, calculate the probability of given state sequences and etc.\n",
    "Random walk is a representation of discrete-time, discrete-value Markov chain model using in stochastic processes."
   ]
  },
  {
   "cell_type": "markdown",
   "metadata": {},
   "source": [
    "## Installation"
   ]
  },
  {
   "cell_type": "markdown",
   "metadata": {},
   "source": [
    "### Source code\n",
    "- Download [Version 1.0](https://github.com/sadrasabouri/pyrandwalk/archive/v1.0.zip) or [Latest Source ](https://github.com/sadrasabouri/pyrandwalk/archive/dev.zip)\n",
    "- Run `pip install -r requirements.txt` or `pip3 install -r requirements.txt` (Need root access)\n",
    "- Run `python3 setup.py install` or `python setup.py install` (Need root access)"
   ]
  },
  {
   "cell_type": "markdown",
   "metadata": {},
   "source": [
    "### PyPI\n",
    "\n",
    "- Check [Python Packaging User Guide](https://packaging.python.org/installing/)\n",
    "- Run `pip install pyrandwalk` or `pip3 install pyrandwalk` (Need root access)\n"
   ]
  },
  {
   "cell_type": "markdown",
   "metadata": {},
   "source": [
    "## Usage"
   ]
  },
  {
   "cell_type": "code",
   "execution_count": 1,
   "metadata": {
    "tags": []
   },
   "outputs": [
    {
     "output_type": "stream",
     "name": "stdout",
     "text": "/usr/lib/python3/dist-packages/secretstorage/dhcrypto.py:15: CryptographyDeprecationWarning: int_from_bytes is deprecated, use int.from_bytes instead\n  from cryptography.utils import int_from_bytes\n/usr/lib/python3/dist-packages/secretstorage/util.py:19: CryptographyDeprecationWarning: int_from_bytes is deprecated, use int.from_bytes instead\n  from cryptography.utils import int_from_bytes\n"
    }
   ],
   "source": [
    "!pip -q -q install pyrandwalk\n",
    "from pyrandwalk import *\n",
    "import numpy as np"
   ]
  },
  {
   "cell_type": "markdown",
   "metadata": {},
   "source": [
    "### RandomWalk"
   ]
  },
  {
   "cell_type": "markdown",
   "metadata": {},
   "source": [
    "Imagine bellow random walk which in it you have five states ({0, 1, 2, 3, 4}) as bellow:\n",
    "<br>\n",
    "<div align=\"center\">\n",
    "<img src=\"https://raw.githubusercontent.com/sadrasabouri/pyrandwalk/master/Otherfiles/usage_example.webp\" weight=\"400\" height=\"400\">\n",
    "</div>\n",
    "<br>\n",
    "In this random walk you can only loop back in state 0 (absorbing state). In other states you can move to near states by the probability given on each edge.\n",
    "<br>\n",
    "<br>\n",
    "So let's make a RandomWalk object from this random walk:"
   ]
  },
  {
   "cell_type": "code",
   "execution_count": 2,
   "metadata": {},
   "outputs": [],
   "source": [
    "states = [0, 1, 2, 3, 4]\n",
    "trans = np.array([[1,    0, 0,    0, 0],\n",
    "                  [0.25, 0, 0.75, 0, 0],\n",
    "                  [0, 0.25, 0, 0.75, 0],\n",
    "                  [0, 0, 0.25, 0, 0.75],\n",
    "                  [0, 0,    0, 1,    0]])\n",
    "rw = RandomWalk(states, trans)"
   ]
  },
  {
   "cell_type": "code",
   "execution_count": 3,
   "metadata": {},
   "outputs": [
    {
     "data": {
      "text/plain": [
       "[0, 1, 2, 3, 4]"
      ]
     },
     "execution_count": 3,
     "metadata": {},
     "output_type": "execute_result"
    }
   ],
   "source": [
    "rw.S"
   ]
  },
  {
   "cell_type": "code",
   "execution_count": 4,
   "metadata": {},
   "outputs": [
    {
     "data": {
      "text/plain": [
       "array([[1.  , 0.  , 0.  , 0.  , 0.  ],\n",
       "       [0.25, 0.  , 0.75, 0.  , 0.  ],\n",
       "       [0.  , 0.25, 0.  , 0.75, 0.  ],\n",
       "       [0.  , 0.  , 0.25, 0.  , 0.75],\n",
       "       [0.  , 0.  , 0.  , 1.  , 0.  ]])"
      ]
     },
     "execution_count": 4,
     "metadata": {},
     "output_type": "execute_result"
    }
   ],
   "source": [
    "rw.P"
   ]
  },
  {
   "cell_type": "markdown",
   "metadata": {},
   "source": [
    "### prob_sec\n",
    "\n",
    "With this method you can calculate the probability of a given sequence:"
   ]
  },
  {
   "cell_type": "code",
   "execution_count": 5,
   "metadata": {},
   "outputs": [
    {
     "data": {
      "text/plain": [
       "0.0125"
      ]
     },
     "execution_count": 5,
     "metadata": {},
     "output_type": "execute_result"
    }
   ],
   "source": [
    "rw.prob_sec([2, 1, 0])"
   ]
  },
  {
   "cell_type": "code",
   "execution_count": 6,
   "metadata": {},
   "outputs": [
    {
     "data": {
      "text/plain": [
       "0.0625"
      ]
     },
     "execution_count": 6,
     "metadata": {},
     "output_type": "execute_result"
    }
   ],
   "source": [
    "rw.prob_sec([2, 1, 0], initial_dist=[0, 0, 1, 0, 0])"
   ]
  },
  {
   "cell_type": "markdown",
   "metadata": {},
   "source": [
    "<ul>\n",
    "    <li> <span style=\"color:red;\">Notice </span> :  `initial_dist` (the initial distribution of the sequence) is came by order respected to states and has a uniform distribution by default.</li>\n",
    "</ul>"
   ]
  },
  {
   "cell_type": "markdown",
   "metadata": {},
   "source": [
    "### run\n",
    "\n",
    "Run a random walk:"
   ]
  },
  {
   "cell_type": "code",
   "execution_count": 7,
   "metadata": {},
   "outputs": [],
   "source": [
    "states, probs = rw.run()"
   ]
  },
  {
   "cell_type": "code",
   "execution_count": 8,
   "metadata": {},
   "outputs": [
    {
     "data": {
      "text/plain": [
       "[2, 1, 0, 0, 0, 0, 0, 0, 0, 0, 0]"
      ]
     },
     "execution_count": 8,
     "metadata": {},
     "output_type": "execute_result"
    }
   ],
   "source": [
    "states"
   ]
  },
  {
   "cell_type": "code",
   "execution_count": 9,
   "metadata": {},
   "outputs": [
    {
     "data": {
      "text/plain": [
       "[0.2, 0.25, 0.25, 1.0, 1.0, 1.0, 1.0, 1.0, 1.0, 1.0, 1.0]"
      ]
     },
     "execution_count": 9,
     "metadata": {},
     "output_type": "execute_result"
    }
   ],
   "source": [
    "probs"
   ]
  },
  {
   "cell_type": "code",
   "execution_count": 10,
   "metadata": {},
   "outputs": [],
   "source": [
    "states, probs = rw.run(ntimes=20)"
   ]
  },
  {
   "cell_type": "code",
   "execution_count": 11,
   "metadata": {},
   "outputs": [
    {
     "data": {
      "text/plain": [
       "[0, 0, 0, 0, 0, 0, 0, 0, 0, 0, 0, 0, 0, 0, 0, 0, 0, 0, 0, 0, 0]"
      ]
     },
     "execution_count": 11,
     "metadata": {},
     "output_type": "execute_result"
    }
   ],
   "source": [
    "states"
   ]
  },
  {
   "cell_type": "code",
   "execution_count": 12,
   "metadata": {},
   "outputs": [
    {
     "data": {
      "text/plain": [
       "[0.2,\n",
       " 1.0,\n",
       " 1.0,\n",
       " 1.0,\n",
       " 1.0,\n",
       " 1.0,\n",
       " 1.0,\n",
       " 1.0,\n",
       " 1.0,\n",
       " 1.0,\n",
       " 1.0,\n",
       " 1.0,\n",
       " 1.0,\n",
       " 1.0,\n",
       " 1.0,\n",
       " 1.0,\n",
       " 1.0,\n",
       " 1.0,\n",
       " 1.0,\n",
       " 1.0,\n",
       " 1.0]"
      ]
     },
     "execution_count": 12,
     "metadata": {},
     "output_type": "execute_result"
    }
   ],
   "source": [
    "probs"
   ]
  },
  {
   "cell_type": "markdown",
   "metadata": {},
   "source": [
    "<ul>\n",
    "    <li> <span style=\"color:red;\">Notice </span> :  `ntimes` (number of steps which the random walk is going to run) is a integer (default value 10).</li>\n",
    "</ul>"
   ]
  },
  {
   "cell_type": "code",
   "execution_count": 13,
   "metadata": {
    "tags": []
   },
   "outputs": [
    {
     "name": "stdout",
     "output_type": "stream",
     "text": [
      "4 --> 3  (p = 1.000)\n",
      "3 --> 4  (p = 0.750)\n",
      "4 --> 3  (p = 1.000)\n",
      "3 --> 2  (p = 0.250)\n",
      "2 --> 3  (p = 0.750)\n",
      "3 --> 2  (p = 0.250)\n",
      "2 --> 3  (p = 0.750)\n",
      "3 --> 4  (p = 0.750)\n",
      "4 --> 3  (p = 1.000)\n",
      "3 --> 4  (p = 0.750)\n"
     ]
    }
   ],
   "source": [
    "states, probs = rw.run(show=True)"
   ]
  },
  {
   "cell_type": "code",
   "execution_count": 14,
   "metadata": {},
   "outputs": [
    {
     "data": {
      "text/plain": [
       "[4, 3, 4, 3, 2, 3, 2, 3, 4, 3, 4]"
      ]
     },
     "execution_count": 14,
     "metadata": {},
     "output_type": "execute_result"
    }
   ],
   "source": [
    "states"
   ]
  },
  {
   "cell_type": "code",
   "execution_count": 15,
   "metadata": {},
   "outputs": [
    {
     "data": {
      "text/plain": [
       "[0.2, 1.0, 0.75, 1.0, 0.25, 0.75, 0.25, 0.75, 0.75, 1.0, 0.75]"
      ]
     },
     "execution_count": 15,
     "metadata": {},
     "output_type": "execute_result"
    }
   ],
   "source": [
    "probs"
   ]
  },
  {
   "cell_type": "markdown",
   "metadata": {},
   "source": [
    "<ul>\n",
    "    <li> <span style=\"color:red;\">Notice </span> :  `show` (a flag which sets if we want to have a transition log) is a boolean (default value False).</li>\n",
    "</ul>"
   ]
  },
  {
   "cell_type": "markdown",
   "metadata": {},
   "source": [
    "### is_irreducible\n",
    "\n",
    "Check if a random walk is irreducible:"
   ]
  },
  {
   "cell_type": "code",
   "execution_count": 16,
   "metadata": {},
   "outputs": [
    {
     "data": {
      "text/plain": [
       "False"
      ]
     },
     "execution_count": 16,
     "metadata": {},
     "output_type": "execute_result"
    }
   ],
   "source": [
    "rw.is_irreducible()"
   ]
  },
  {
   "cell_type": "markdown",
   "metadata": {},
   "source": [
    "### trans_power\n",
    "\n",
    "Return nth power of random walk transition matrix:"
   ]
  },
  {
   "cell_type": "code",
   "execution_count": 17,
   "metadata": {},
   "outputs": [
    {
     "data": {
      "text/plain": [
       "array([[1.    , 0.    , 0.    , 0.    , 0.    ],\n",
       "       [0.25  , 0.1875, 0.    , 0.5625, 0.    ],\n",
       "       [0.0625, 0.    , 0.375 , 0.    , 0.5625],\n",
       "       [0.    , 0.0625, 0.    , 0.9375, 0.    ],\n",
       "       [0.    , 0.    , 0.25  , 0.    , 0.75  ]])"
      ]
     },
     "execution_count": 17,
     "metadata": {},
     "output_type": "execute_result"
    }
   ],
   "source": [
    "rw.trans_power(2)"
   ]
  },
  {
   "cell_type": "markdown",
   "metadata": {},
   "source": [
    "### get_edges\n",
    "\n",
    "Return edges of random walk's graph:"
   ]
  },
  {
   "cell_type": "code",
   "execution_count": 18,
   "metadata": {},
   "outputs": [
    {
     "data": {
      "text/plain": [
       "[(0, 0, 1.0),\n",
       " (1, 0, 0.25),\n",
       " (1, 2, 0.75),\n",
       " (2, 1, 0.25),\n",
       " (2, 3, 0.75),\n",
       " (3, 2, 0.25),\n",
       " (3, 4, 0.75),\n",
       " (4, 3, 1.0)]"
      ]
     },
     "execution_count": 18,
     "metadata": {},
     "output_type": "execute_result"
    }
   ],
   "source": [
    "rw.get_edges()"
   ]
  },
  {
   "cell_type": "markdown",
   "metadata": {},
   "source": [
    "### get_graph\n",
    "\n",
    "Return generated graph using networkx:"
   ]
  },
  {
   "cell_type": "code",
   "execution_count": 19,
   "metadata": {},
   "outputs": [],
   "source": [
    "rw_graph = rw.get_graph()"
   ]
  },
  {
   "cell_type": "markdown",
   "metadata": {},
   "source": [
    "### plot_graph\n",
    "\n",
    "Plot the random walk graph:"
   ]
  },
  {
   "cell_type": "code",
   "execution_count": 20,
   "metadata": {},
   "outputs": [
    {
     "data": {
      "image/png": "[encoded data removed]",
      "text/plain": [
       "<Figure size 576x396 with 1 Axes>"
      ]
     },
     "metadata": {},
     "output_type": "display_data"
    }
   ],
   "source": [
    "rw.plot_graph()"
   ]
  },
  {
   "cell_type": "markdown",
   "metadata": {},
   "source": [
    "### get_typeof_classes\n",
    "\n",
    "Return type of classes of the random walk:"
   ]
  },
  {
   "cell_type": "code",
   "execution_count": 21,
   "metadata": {},
   "outputs": [],
   "source": [
    "rw_class_types = rw.get_typeof_classes()"
   ]
  },
  {
   "cell_type": "code",
   "execution_count": 22,
   "metadata": {},
   "outputs": [
    {
     "data": {
      "text/plain": [
       "([0], array([[1.]]))"
      ]
     },
     "execution_count": 22,
     "metadata": {},
     "output_type": "execute_result"
    }
   ],
   "source": [
    "rw_class_types['recurrent']"
   ]
  },
  {
   "cell_type": "code",
   "execution_count": 23,
   "metadata": {},
   "outputs": [
    {
     "data": {
      "text/plain": [
       "[1, 2, 3, 4]"
      ]
     },
     "execution_count": 23,
     "metadata": {},
     "output_type": "execute_result"
    }
   ],
   "source": [
    "rw_class_types['transient'][0]"
   ]
  },
  {
   "cell_type": "code",
   "execution_count": 24,
   "metadata": {},
   "outputs": [
    {
     "data": {
      "text/plain": [
       "array([[0.  , 0.75, 0.  , 0.  ],\n",
       "       [0.25, 0.  , 0.75, 0.  ],\n",
       "       [0.  , 0.25, 0.  , 0.75],\n",
       "       [0.  , 0.  , 1.  , 0.  ]])"
      ]
     },
     "execution_count": 24,
     "metadata": {},
     "output_type": "execute_result"
    }
   ],
   "source": [
    "rw_class_types['transient'][1]"
   ]
  },
  {
   "cell_type": "markdown",
   "metadata": {},
   "source": [
    "## Examples"
   ]
  },
  {
   "cell_type": "markdown",
   "metadata": {},
   "source": [
    "We have already seen a example of using pyrandwalk in <a href=\"#Usage\">Usage</a> section. If you want to see more examples including some solved exercises from references:\n",
    "\n",
    "<br>\n",
    "\n",
    "| Google Colab | GitHub |\n",
    "| :---: | :---: |\n",
    "| <a target=\"_blank\" href=\"https://colab.research.google.com/github/sadrasabouri/pyrandwalk/blob/master/Document/Examples.ipynb\"><img src=\"https://i.ibb.co/2P3SLwK/colab.png\"  style=\"padding-bottom:5px;\" height=\"50px\" weight=\"50px\" /><br>Examples on Google Colab</a> | <a target=\"_blank\" href=\"https://github.com/sadrasabouri/pyrandwalk/blob/master/Document/Examples.ipynb\"><img src=\"https://i.ibb.co/xfJbPmL/github.png\"  height=\"50px\" weight=\"50px\" style=\"padding-bottom:5px;\"/><br>Examples on GitHub</a> |\n"
   ]
  },
  {
   "cell_type": "markdown",
   "metadata": {},
   "source": [
    "## Reference"
   ]
  },
  {
   "cell_type": "markdown",
   "metadata": {},
   "source": [
    "<blockquote>1- Lawler, Gregory F. Introduction to stochastic processes. Chapman and Hall/CRC, 2018.</blockquote>\n",
    "<blockquote>2- <a href=\"https://markusfeng.com/projects/graph/\">Markusfeng</a></blockquote>\n",
    "<div>Icon made by <a href=\"https://www.flaticon.com/authors/becris\" title=\"Becris\">Becris</a> from <a href=\"https://www.flaticon.com/\" title=\"Flaticon\">www.flaticon.com</a></div>\n"
   ]
  }
 ],
 "metadata": {
  "kernelspec": {
   "display_name": "Python 3.7.5 64-bit",
   "name": "python37564bitb5183b850c424c19822d4b729b3b8a98"
  },
  "language_info": {
   "codemirror_mode": {
    "name": "ipython",
    "version": 3
   },
   "file_extension": ".py",
   "mimetype": "text/x-python",
   "name": "python",
   "nbconvert_exporter": "python",
   "pygments_lexer": "ipython3",
   "version": "3.7.5-final"
  }
 },
 "nbformat": 4,
 "nbformat_minor": 2
}