{
 "cells": [
  {
   "cell_type": "markdown",
   "metadata": {},
   "source": [
    "| Google Colab | GitHub |\n",
    "| :---: | :---: |\n",
    "| <a target=\"_blank\" href=\"https://colab.research.google.com/github/sadrasabouri/pyrandwalk/blob/master/Document/Examples.ipynb\"><img src=\"https://i.ibb.co/2P3SLwK/colab.png\"  style=\"padding-bottom:5px;\" height=\"50px\" weight=\"50px\" /><br>Run in Google Colab</a> | <a target=\"_blank\" href=\"https://github.com/sadrasabouri/pyrandwalk/blob/master/Document/Examples.ipynb\"><img src=\"https://i.ibb.co/xfJbPmL/github.png\"  height=\"50px\" weight=\"50px\" style=\"padding-bottom:5px;\"/><br>View Source on GitHub</a> |"
   ]
  },
  {
   "cell_type": "markdown",
   "metadata": {},
   "source": [
    "# Pyrandwalk Examples"
   ]
  },
  {
   "cell_type": "markdown",
   "metadata": {},
   "source": [
    "### Version : 1.0\n",
    "-----"
   ]
  },
  {
   "cell_type": "markdown",
   "metadata": {},
   "source": [
    "This example set contains bellow examples from the first reference (Introduction to Stochastic Processes):\n",
    "<ul>\n",
    "    <ol>\n",
    "        <li><a href=\"#Finite_Markov_Chains\">Finite_Markov_Chains</a></li>\n",
    "        <ul>\n",
    "            <li><a href=\"#Exercise1_2\">#Exercise1_2</a></li>\n",
    "            <li><a href=\"#Exercise1_3\">#Exercise1_3</a></li>\n",
    "            <li><a href=\"#Exercise1_4\">#Exercise1_4</a></li>\n",
    "        </ul>\n",
    "    </ol>\n",
    "</ul>"
   ]
  },
  {
   "cell_type": "code",
   "execution_count": 1,
   "metadata": {
    "tags": []
   },
   "outputs": [
    {
     "name": "stdout",
     "output_type": "stream",
     "text": [
      "/usr/lib/python3/dist-packages/secretstorage/dhcrypto.py:15: CryptographyDeprecationWarning: int_from_bytes is deprecated, use int.from_bytes instead\r\n",
      "  from cryptography.utils import int_from_bytes\r\n",
      "/usr/lib/python3/dist-packages/secretstorage/util.py:19: CryptographyDeprecationWarning: int_from_bytes is deprecated, use int.from_bytes instead\r\n",
      "  from cryptography.utils import int_from_bytes\r\n"
     ]
    }
   ],
   "source": [
    "!pip -q -q install pyrandwalk==1.0\n",
    "from pyrandwalk import *\n",
    "import numpy as np"
   ]
  },
  {
   "cell_type": "markdown",
   "metadata": {},
   "source": [
    "## 1. Finite_Markov_Chains"
   ]
  },
  {
   "cell_type": "markdown",
   "metadata": {},
   "source": [
    "### Exercise1_2\n",
    "\n",
    "Consider a Markov chain with state space \\{0, 1\\} and transition matrix\n",
    "\n",
    "$$\n",
    "P =\n",
    "\\left(\\begin{array}{cc} \n",
    "1/3 & 2/3\\\\\n",
    "3/4 & 1/4\n",
    "\\end{array}\\right)\n",
    "$$"
   ]
  },
  {
   "cell_type": "code",
   "execution_count": 2,
   "metadata": {},
   "outputs": [],
   "source": [
    "states = [0, 1]\n",
    "trans = np.array([[1/3, 2/3],\n",
    "                  [3/4, 1/4]])\n",
    "rw = RandomWalk(states, trans)"
   ]
  },
  {
   "cell_type": "markdown",
   "metadata": {},
   "source": [
    "Assuming that the chain starts in state 0 at time n = 0, what is the probability that it is in state 1 at time n = 3?"
   ]
  },
  {
   "cell_type": "code",
   "execution_count": 3,
   "metadata": {
    "tags": []
   },
   "outputs": [
    {
     "name": "stdout",
     "output_type": "stream",
     "text": [
      "[[0.49537037 0.50462963]\n",
      " [0.56770833 0.43229167]]\n",
      "ANSWER: 0.5046296296296295\n"
     ]
    }
   ],
   "source": [
    "third_step_trans = rw.trans_power(3)\n",
    "print(third_step_trans)\n",
    "print(\"ANSWER:\", third_step_trans[0, 1])"
   ]
  },
  {
   "cell_type": "markdown",
   "metadata": {},
   "source": [
    "### Exercise1_3\n",
    "\n",
    "Consider a Markov chain with state space \\{1, 2, 3\\} and transition matrix\n",
    "\n",
    "$$\n",
    "P =\n",
    "\\left(\\begin{array}{cc} \n",
    "0.4 & 0.2 & 0.4\\\\\n",
    "0.6 & 0 & 0.4 \\\\\n",
    "0.2 & 0.5 & 0.3\n",
    "\\end{array}\\right)\n",
    "$$\n"
   ]
  },
  {
   "cell_type": "code",
   "execution_count": 4,
   "metadata": {},
   "outputs": [],
   "source": [
    "states = [1, 2, 3]\n",
    "trans = np.array([[0.4, 0.2, 0.4],\n",
    "                  [0.6,  0 , 0.4],\n",
    "                  [0.2, 0.5, 0.3]])\n",
    "rw = RandomWalk(states, trans)"
   ]
  },
  {
   "cell_type": "markdown",
   "metadata": {},
   "source": [
    "what is the probability in the long run that the chain is in state 1?\n",
    "Solve this problem two different ways:\n",
    "\n",
    "1) by raising the matrix to a high power:"
   ]
  },
  {
   "cell_type": "code",
   "execution_count": 5,
   "metadata": {},
   "outputs": [
    {
     "data": {
      "text/plain": [
       "array([[0.37878788, 0.25757576, 0.36363636],\n",
       "       [0.37878788, 0.25757576, 0.36363636],\n",
       "       [0.37878788, 0.25757576, 0.36363636]])"
      ]
     },
     "execution_count": 5,
     "metadata": {},
     "output_type": "execute_result"
    }
   ],
   "source": [
    "rw.trans_power(1000)"
   ]
  },
  {
   "cell_type": "markdown",
   "metadata": {},
   "source": [
    "2) by directly computing the invariant probability vector as a left eigenvector:"
   ]
  },
  {
   "cell_type": "code",
   "execution_count": 6,
   "metadata": {},
   "outputs": [
    {
     "data": {
      "text/plain": [
       "array([0.37878788, 0.25757576, 0.36363636])"
      ]
     },
     "execution_count": 6,
     "metadata": {},
     "output_type": "execute_result"
    }
   ],
   "source": [
    "rw.final_dist()"
   ]
  },
  {
   "cell_type": "markdown",
   "metadata": {},
   "source": [
    "### Exercise1_4\n",
    "\n",
    "Do the same with\n",
    "\n",
    "$$\n",
    "P =\n",
    "\\left(\\begin{array}{cc} \n",
    "0.2 & 0.4 & 0.4\\\\\n",
    "0.1 & 0.5 & 0.4 \\\\\n",
    "0.6 & 0.3 & 0.1\n",
    "\\end{array}\\right)\n",
    "$$\n"
   ]
  },
  {
   "cell_type": "code",
   "execution_count": 7,
   "metadata": {},
   "outputs": [],
   "source": [
    "states = [1, 2, 3]\n",
    "trans = np.array([[0.2, 0.4, 0.4],\n",
    "                  [0.1, 0.5, 0.4],\n",
    "                  [0.6, 0.3, 0.1]])\n",
    "rw = RandomWalk(states, trans)"
   ]
  },
  {
   "cell_type": "markdown",
   "metadata": {},
   "source": [
    "1) by raising the matrix to a high power:"
   ]
  },
  {
   "cell_type": "code",
   "execution_count": 8,
   "metadata": {},
   "outputs": [
    {
     "data": {
      "text/plain": [
       "array([[0.28205128, 0.41025641, 0.30769231],\n",
       "       [0.28205128, 0.41025641, 0.30769231],\n",
       "       [0.28205128, 0.41025641, 0.30769231]])"
      ]
     },
     "execution_count": 8,
     "metadata": {},
     "output_type": "execute_result"
    }
   ],
   "source": [
    "rw.trans_power(1000)"
   ]
  },
  {
   "cell_type": "markdown",
   "metadata": {},
   "source": [
    "2) by directly computing the invariant probability vector as a left eigenvector:"
   ]
  },
  {
   "cell_type": "code",
   "execution_count": 9,
   "metadata": {},
   "outputs": [
    {
     "data": {
      "text/plain": [
       "array([0.28205128, 0.41025641, 0.30769231])"
      ]
     },
     "execution_count": 9,
     "metadata": {},
     "output_type": "execute_result"
    }
   ],
   "source": [
    "rw.final_dist()"
   ]
  }
 ],
 "metadata": {
  "kernelspec": {
   "display_name": "Python 3.7.5 64-bit",
   "name": "python37564bitb5183b850c424c19822d4b729b3b8a98"
  },
  "language_info": {
   "codemirror_mode": {
    "name": "ipython",
    "version": 3
   },
   "file_extension": ".py",
   "mimetype": "text/x-python",
   "name": "python",
   "nbconvert_exporter": "python",
   "pygments_lexer": "ipython3",
   "version": "3.8.10"
  },
  "metadata": {
   "interpreter": {
    "hash": "916dbcbb3f70747c44a77c7bcd40155683ae19c65e1c03b4aa3499c5328201f1"
   }
  }
 },
 "nbformat": 4,
 "nbformat_minor": 2
}
