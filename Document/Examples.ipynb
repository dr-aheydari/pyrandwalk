{
 "cells": [
  {
   "cell_type": "markdown",
   "metadata": {},
   "source": [
    "| Google Colab | GitHub |\n",
    "| :---: | :---: |\n",
    "| <a target=\"_blank\" href=\"https://colab.research.google.com/github/sadrasabouri/pyrandwalk/blob/master/Document/Examples.ipynb\"><img src=\"https://i.ibb.co/2P3SLwK/colab.png\"  style=\"padding-bottom:5px;\" height=\"50px\" weight=\"50px\" /><br>Run in Google Colab</a> | <a target=\"_blank\" href=\"https://github.com/sadrasabouri/pyrandwalk/blob/master/Document/Examples.ipynb\"><img src=\"https://i.ibb.co/xfJbPmL/github.png\"  height=\"50px\" weight=\"50px\" style=\"padding-bottom:5px;\"/><br>View Source on GitHub</a> |"
   ]
  },
  {
   "cell_type": "markdown",
   "metadata": {},
   "source": [
    "# Pyrandwalk Examples"
   ]
  },
  {
   "cell_type": "markdown",
   "metadata": {},
   "source": [
    "### Version : 0.09\n",
    "-----"
   ]
  },
  {
   "cell_type": "markdown",
   "metadata": {},
   "source": [
    "This example set contains bellow examples from the first reference (Introduction to Stochastic Processes):\n",
    "<ul>\n",
    "    <ol>\n",
    "        <li><a href=\"#Finite_Markov_Chains\">Finite_Markov_Chains</a></li>\n",
    "        <ul>\n",
    "            <li><a href=\"#Exercise1_2\">#Exercise1_2</a></li>\n",
    "            <li><a href=\"#Exercise1_3\">#Exercise1_3</a></li>\n",
    "            <li><a href=\"#Exercise1_4\">#Exercise1_4</a></li>\n",
    "        </ul>\n",
    "    </ol>\n",
    "</ul>"
   ]
  },
  {
   "cell_type": "code",
   "execution_count": 1,
   "metadata": {
    "tags": []
   },
   "outputs": [
    {
     "name": "stdout",
     "output_type": "stream",
     "text": [
      "/usr/lib/python3/dist-packages/secretstorage/dhcrypto.py:15: CryptographyDeprecationWarning: int_from_bytes is deprecated, use int.from_bytes instead\r\n",
      "  from cryptography.utils import int_from_bytes\r\n",
      "/usr/lib/python3/dist-packages/secretstorage/util.py:19: CryptographyDeprecationWarning: int_from_bytes is deprecated, use int.from_bytes instead\r\n",
      "  from cryptography.utils import int_from_bytes\r\n"
     ]
    },
    {
     "name": "stdout",
     "output_type": "stream",
     "text": [
      "Defaulting to user installation because normal site-packages is not writeable\r\n"
     ]
    },
    {
     "name": "stdout",
     "output_type": "stream",
     "text": [
      "Requirement already satisfied: pyrandwalk in /usr/local/lib/python3.8/dist-packages/pyrandwalk-0.1-py3.8.egg (0.1)\r\n",
      "Requirement already satisfied: art>=1.8 in /home/user/.local/lib/python3.8/site-packages (from pyrandwalk) (5.1)\r\n",
      "Requirement already satisfied: matplotlib>=3.0.0 in /home/user/.local/lib/python3.8/site-packages (from pyrandwalk) (3.3.4)\r\n",
      "Requirement already satisfied: networkx>=2 in /home/user/.local/lib/python3.8/site-packages (from pyrandwalk) (2.5)\r\n"
     ]
    },
    {
     "name": "stdout",
     "output_type": "stream",
     "text": [
      "Requirement already satisfied: numpy>=1.9.0 in /home/user/.local/lib/python3.8/site-packages (from pyrandwalk) (1.19.1)\r\n",
      "Requirement already satisfied: kiwisolver>=1.0.1 in /home/user/.local/lib/python3.8/site-packages (from matplotlib>=3.0.0->pyrandwalk) (1.2.0)\r\n",
      "Requirement already satisfied: python-dateutil>=2.1 in /usr/lib/python3/dist-packages (from matplotlib>=3.0.0->pyrandwalk) (2.7.3)\r\n",
      "Requirement already satisfied: pillow>=6.2.0 in /usr/lib/python3/dist-packages (from matplotlib>=3.0.0->pyrandwalk) (7.0.0)\r\n",
      "Requirement already satisfied: pyparsing!=2.0.4,!=2.1.2,!=2.1.6,>=2.0.3 in /home/user/.local/lib/python3.8/site-packages (from matplotlib>=3.0.0->pyrandwalk) (2.4.6)\r\n",
      "Requirement already satisfied: cycler>=0.10 in /home/user/.local/lib/python3.8/site-packages (from matplotlib>=3.0.0->pyrandwalk) (0.10.0)\r\n",
      "Requirement already satisfied: six in /usr/lib/python3/dist-packages (from cycler>=0.10->matplotlib>=3.0.0->pyrandwalk) (1.14.0)\r\n"
     ]
    },
    {
     "name": "stdout",
     "output_type": "stream",
     "text": [
      "Requirement already satisfied: decorator>=4.3.0 in /usr/local/lib/python3.8/dist-packages (from networkx>=2->pyrandwalk) (4.4.2)\r\n"
     ]
    }
   ],
   "source": [
    "!pip install pyrandwalk\n",
    "from pyrandwalk import *\n",
    "import numpy as np"
   ]
  },
  {
   "cell_type": "markdown",
   "metadata": {},
   "source": [
    "## 1. Finite_Markov_Chains"
   ]
  },
  {
   "cell_type": "markdown",
   "metadata": {},
   "source": [
    "### Exercise1_2\n",
    "\n",
    "Consider a Markov chain with state space \\{0, 1\\} and transition matrix\n",
    "\n",
    "$$\n",
    "P =\n",
    "\\left(\\begin{array}{cc} \n",
    "1/3 & 2/3\\\\\n",
    "3/4 & 1/4\n",
    "\\end{array}\\right)\n",
    "$$"
   ]
  },
  {
   "cell_type": "code",
   "execution_count": 2,
   "metadata": {},
   "outputs": [],
   "source": [
    "states = [0, 1]\n",
    "trans = np.array([[1/3, 2/3],\n",
    "                  [3/4, 1/4]])\n",
    "rw = RandomWalk(states, trans)"
   ]
  },
  {
   "cell_type": "markdown",
   "metadata": {},
   "source": [
    "Assuming that the chain starts in state 0 at time n = 0, what is the probability that it is in state 1 at time n = 3?"
   ]
  },
  {
   "cell_type": "code",
   "execution_count": 3,
   "metadata": {
    "tags": []
   },
   "outputs": [
    {
     "name": "stdout",
     "output_type": "stream",
     "text": [
      "[[0.49537037 0.50462963]\n",
      " [0.56770833 0.43229167]]\n",
      "ANSWER: 0.5046296296296295\n"
     ]
    }
   ],
   "source": [
    "third_step_trans = rw.trans_power(3)\n",
    "print(third_step_trans)\n",
    "print(\"ANSWER:\", third_step_trans[0, 1])"
   ]
  }
 ],
 "metadata": {
  "kernelspec": {
   "display_name": "Python 3",
   "name": "python3"
  },
  "language_info": {
   "codemirror_mode": {
    "name": "ipython",
    "version": 3
   },
   "file_extension": ".py",
   "mimetype": "text/x-python",
   "name": "python",
   "nbconvert_exporter": "python",
   "pygments_lexer": "ipython3",
   "version": "3.8.5"
  },
  "metadata": {
   "interpreter": {
    "hash": "916dbcbb3f70747c44a77c7bcd40155683ae19c65e1c03b4aa3499c5328201f1"
   }
  }
 },
 "nbformat": 4,
 "nbformat_minor": 2
}
